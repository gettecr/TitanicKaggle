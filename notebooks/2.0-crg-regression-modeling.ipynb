{
 "cells": [
  {
   "cell_type": "code",
   "execution_count": 1,
   "metadata": {
    "collapsed": true
   },
   "outputs": [],
   "source": [
    "import numpy as np\n",
    "import pandas as pd\n",
    "import matplotlib.pyplot as plt"
   ]
  },
  {
   "cell_type": "code",
   "execution_count": 2,
   "metadata": {
    "collapsed": true
   },
   "outputs": [],
   "source": [
    "trainfile = '../data/processed/train_1.0.csv'\n",
    "testfile = '../data/processed/test_1.0.csv'"
   ]
  },
  {
   "cell_type": "code",
   "execution_count": 3,
   "metadata": {
    "collapsed": true
   },
   "outputs": [],
   "source": [
    "df_train = pd.read_csv(trainfile)\n",
    "df_test = pd.read_csv(testfile)"
   ]
  },
  {
   "cell_type": "code",
   "execution_count": 4,
   "metadata": {
    "collapsed": true
   },
   "outputs": [],
   "source": [
    "df_train.drop('Unnamed: 0', axis=1,inplace=True)"
   ]
  },
  {
   "cell_type": "code",
   "execution_count": 5,
   "metadata": {},
   "outputs": [
    {
     "data": {
      "text/html": [
       "<div>\n",
       "<style>\n",
       "    .dataframe thead tr:only-child th {\n",
       "        text-align: right;\n",
       "    }\n",
       "\n",
       "    .dataframe thead th {\n",
       "        text-align: left;\n",
       "    }\n",
       "\n",
       "    .dataframe tbody tr th {\n",
       "        vertical-align: top;\n",
       "    }\n",
       "</style>\n",
       "<table border=\"1\" class=\"dataframe\">\n",
       "  <thead>\n",
       "    <tr style=\"text-align: right;\">\n",
       "      <th></th>\n",
       "      <th>PassengerId</th>\n",
       "      <th>Survived</th>\n",
       "      <th>class_1</th>\n",
       "      <th>class_2</th>\n",
       "      <th>Name</th>\n",
       "      <th>Female</th>\n",
       "      <th>FamilySize</th>\n",
       "      <th>inAge_rand_Infant</th>\n",
       "      <th>inAge_rand_Child</th>\n",
       "      <th>inAge_rand_Teenager</th>\n",
       "      <th>...</th>\n",
       "      <th>inAge_rand_Adult</th>\n",
       "      <th>inAge_rand_Senior</th>\n",
       "      <th>inAge_mean_Infant</th>\n",
       "      <th>inAge_mean_Child</th>\n",
       "      <th>inAge_mean_Teenager</th>\n",
       "      <th>inAge_mean_Young Adult</th>\n",
       "      <th>inAge_mean_Adult</th>\n",
       "      <th>inAge_mean_Senior</th>\n",
       "      <th>from_C</th>\n",
       "      <th>Eins</th>\n",
       "    </tr>\n",
       "  </thead>\n",
       "  <tbody>\n",
       "    <tr>\n",
       "      <th>845</th>\n",
       "      <td>846</td>\n",
       "      <td>0</td>\n",
       "      <td>0</td>\n",
       "      <td>0</td>\n",
       "      <td>Abbing, Mr. Anthony</td>\n",
       "      <td>0</td>\n",
       "      <td>1</td>\n",
       "      <td>0</td>\n",
       "      <td>0</td>\n",
       "      <td>0</td>\n",
       "      <td>...</td>\n",
       "      <td>1</td>\n",
       "      <td>0</td>\n",
       "      <td>0</td>\n",
       "      <td>0</td>\n",
       "      <td>0</td>\n",
       "      <td>0</td>\n",
       "      <td>1</td>\n",
       "      <td>0</td>\n",
       "      <td>0</td>\n",
       "      <td>1.0</td>\n",
       "    </tr>\n",
       "    <tr>\n",
       "      <th>746</th>\n",
       "      <td>747</td>\n",
       "      <td>0</td>\n",
       "      <td>0</td>\n",
       "      <td>0</td>\n",
       "      <td>Abbott, Mr. Rossmore Edward</td>\n",
       "      <td>0</td>\n",
       "      <td>3</td>\n",
       "      <td>0</td>\n",
       "      <td>0</td>\n",
       "      <td>1</td>\n",
       "      <td>...</td>\n",
       "      <td>0</td>\n",
       "      <td>0</td>\n",
       "      <td>0</td>\n",
       "      <td>0</td>\n",
       "      <td>1</td>\n",
       "      <td>0</td>\n",
       "      <td>0</td>\n",
       "      <td>0</td>\n",
       "      <td>0</td>\n",
       "      <td>1.0</td>\n",
       "    </tr>\n",
       "    <tr>\n",
       "      <th>279</th>\n",
       "      <td>280</td>\n",
       "      <td>1</td>\n",
       "      <td>0</td>\n",
       "      <td>0</td>\n",
       "      <td>Abbott, Mrs. Stanton (Rosa Hunt)</td>\n",
       "      <td>1</td>\n",
       "      <td>3</td>\n",
       "      <td>0</td>\n",
       "      <td>0</td>\n",
       "      <td>0</td>\n",
       "      <td>...</td>\n",
       "      <td>0</td>\n",
       "      <td>0</td>\n",
       "      <td>0</td>\n",
       "      <td>0</td>\n",
       "      <td>0</td>\n",
       "      <td>1</td>\n",
       "      <td>0</td>\n",
       "      <td>0</td>\n",
       "      <td>0</td>\n",
       "      <td>1.0</td>\n",
       "    </tr>\n",
       "    <tr>\n",
       "      <th>308</th>\n",
       "      <td>309</td>\n",
       "      <td>0</td>\n",
       "      <td>0</td>\n",
       "      <td>1</td>\n",
       "      <td>Abelson, Mr. Samuel</td>\n",
       "      <td>0</td>\n",
       "      <td>2</td>\n",
       "      <td>0</td>\n",
       "      <td>0</td>\n",
       "      <td>0</td>\n",
       "      <td>...</td>\n",
       "      <td>0</td>\n",
       "      <td>0</td>\n",
       "      <td>0</td>\n",
       "      <td>0</td>\n",
       "      <td>0</td>\n",
       "      <td>1</td>\n",
       "      <td>0</td>\n",
       "      <td>0</td>\n",
       "      <td>1</td>\n",
       "      <td>1.0</td>\n",
       "    </tr>\n",
       "    <tr>\n",
       "      <th>874</th>\n",
       "      <td>875</td>\n",
       "      <td>1</td>\n",
       "      <td>0</td>\n",
       "      <td>1</td>\n",
       "      <td>Abelson, Mrs. Samuel (Hannah Wizosky)</td>\n",
       "      <td>1</td>\n",
       "      <td>2</td>\n",
       "      <td>0</td>\n",
       "      <td>0</td>\n",
       "      <td>0</td>\n",
       "      <td>...</td>\n",
       "      <td>0</td>\n",
       "      <td>0</td>\n",
       "      <td>0</td>\n",
       "      <td>0</td>\n",
       "      <td>0</td>\n",
       "      <td>1</td>\n",
       "      <td>0</td>\n",
       "      <td>0</td>\n",
       "      <td>1</td>\n",
       "      <td>1.0</td>\n",
       "    </tr>\n",
       "  </tbody>\n",
       "</table>\n",
       "<p>5 rows × 21 columns</p>\n",
       "</div>"
      ],
      "text/plain": [
       "     PassengerId  Survived  class_1  class_2  \\\n",
       "845          846         0        0        0   \n",
       "746          747         0        0        0   \n",
       "279          280         1        0        0   \n",
       "308          309         0        0        1   \n",
       "874          875         1        0        1   \n",
       "\n",
       "                                      Name  Female  FamilySize  \\\n",
       "845                    Abbing, Mr. Anthony       0           1   \n",
       "746            Abbott, Mr. Rossmore Edward       0           3   \n",
       "279       Abbott, Mrs. Stanton (Rosa Hunt)       1           3   \n",
       "308                    Abelson, Mr. Samuel       0           2   \n",
       "874  Abelson, Mrs. Samuel (Hannah Wizosky)       1           2   \n",
       "\n",
       "     inAge_rand_Infant  inAge_rand_Child  inAge_rand_Teenager  ...   \\\n",
       "845                  0                 0                    0  ...    \n",
       "746                  0                 0                    1  ...    \n",
       "279                  0                 0                    0  ...    \n",
       "308                  0                 0                    0  ...    \n",
       "874                  0                 0                    0  ...    \n",
       "\n",
       "     inAge_rand_Adult  inAge_rand_Senior  inAge_mean_Infant  inAge_mean_Child  \\\n",
       "845                 1                  0                  0                 0   \n",
       "746                 0                  0                  0                 0   \n",
       "279                 0                  0                  0                 0   \n",
       "308                 0                  0                  0                 0   \n",
       "874                 0                  0                  0                 0   \n",
       "\n",
       "     inAge_mean_Teenager  inAge_mean_Young Adult  inAge_mean_Adult  \\\n",
       "845                    0                       0                 1   \n",
       "746                    1                       0                 0   \n",
       "279                    0                       1                 0   \n",
       "308                    0                       1                 0   \n",
       "874                    0                       1                 0   \n",
       "\n",
       "     inAge_mean_Senior  from_C  Eins  \n",
       "845                  0       0   1.0  \n",
       "746                  0       0   1.0  \n",
       "279                  0       0   1.0  \n",
       "308                  0       1   1.0  \n",
       "874                  0       1   1.0  \n",
       "\n",
       "[5 rows x 21 columns]"
      ]
     },
     "execution_count": 5,
     "metadata": {},
     "output_type": "execute_result"
    }
   ],
   "source": [
    "df_train.sort_values(['class_1','Name']).head()"
   ]
  },
  {
   "cell_type": "code",
   "execution_count": 20,
   "metadata": {},
   "outputs": [
    {
     "name": "stderr",
     "output_type": "stream",
     "text": [
      "/Users/CodyGette/anaconda3/lib/python3.6/site-packages/statsmodels/compat/pandas.py:56: FutureWarning: The pandas.core.datetools module is deprecated and will be removed in a future version. Please use the pandas.tseries module instead.\n",
      "  from pandas.core import datetools\n"
     ]
    }
   ],
   "source": [
    "# machine learning\n",
    "from sklearn.linear_model import LogisticRegression\n",
    "from sklearn.svm import SVC\n",
    "from sklearn.ensemble import RandomForestClassifier\n",
    "from sklearn.neighbors import KNeighborsClassifier\n",
    "from sklearn.tree import DecisionTreeClassifier\n",
    "import statsmodels.api as sm"
   ]
  },
  {
   "cell_type": "code",
   "execution_count": 16,
   "metadata": {},
   "outputs": [
    {
     "data": {
      "text/plain": [
       "((891, 9), (891,), (891, 9))"
      ]
     },
     "execution_count": 16,
     "metadata": {},
     "output_type": "execute_result"
    }
   ],
   "source": [
    "X_train = df_train[['class_1','class_2','Female',\"FamilySize\",\n",
    "                          'inAge_rand_Infant','inAge_rand_Child', 'inAge_rand_Young Adult',\n",
    "                            'from_C','Eins']]\n",
    "Y_train = df_train[\"Survived\"]\n",
    "X_test  = df_test[['class_1','class_2','Female',\"FamilySize\",\n",
    "                          'inAge_rand_Infant','inAge_rand_Child', 'inAge_rand_Young Adult',\n",
    "                            'from_C','Eins']].copy()\n",
    "X_train.shape, Y_train.shape, X_test.shape"
   ]
  },
  {
   "cell_type": "code",
   "execution_count": 21,
   "metadata": {},
   "outputs": [
    {
     "name": "stdout",
     "output_type": "stream",
     "text": [
      "Optimization terminated successfully.\n",
      "         Current function value: 0.428299\n",
      "         Iterations 6\n"
     ]
    },
    {
     "data": {
      "text/html": [
       "<table class=\"simpletable\">\n",
       "<caption>Logit Regression Results</caption>\n",
       "<tr>\n",
       "  <th>Dep. Variable:</th>     <td>Survived</td>     <th>  No. Observations:  </th>  <td>   891</td>  \n",
       "</tr>\n",
       "<tr>\n",
       "  <th>Model:</th>               <td>Logit</td>      <th>  Df Residuals:      </th>  <td>   882</td>  \n",
       "</tr>\n",
       "<tr>\n",
       "  <th>Method:</th>               <td>MLE</td>       <th>  Df Model:          </th>  <td>     8</td>  \n",
       "</tr>\n",
       "<tr>\n",
       "  <th>Date:</th>          <td>Sun, 18 Mar 2018</td> <th>  Pseudo R-squ.:     </th>  <td>0.3568</td>  \n",
       "</tr>\n",
       "<tr>\n",
       "  <th>Time:</th>              <td>16:30:15</td>     <th>  Log-Likelihood:    </th> <td> -381.61</td> \n",
       "</tr>\n",
       "<tr>\n",
       "  <th>converged:</th>           <td>True</td>       <th>  LL-Null:           </th> <td> -593.33</td> \n",
       "</tr>\n",
       "<tr>\n",
       "  <th> </th>                      <td> </td>        <th>  LLR p-value:       </th> <td>1.817e-86</td>\n",
       "</tr>\n",
       "</table>\n",
       "<table class=\"simpletable\">\n",
       "<tr>\n",
       "             <td></td>               <th>coef</th>     <th>std err</th>      <th>z</th>      <th>P>|z|</th>  <th>[0.025</th>    <th>0.975]</th>  \n",
       "</tr>\n",
       "<tr>\n",
       "  <th>class_1</th>                <td>    2.1109</td> <td>    0.238</td> <td>    8.862</td> <td> 0.000</td> <td>    1.644</td> <td>    2.578</td>\n",
       "</tr>\n",
       "<tr>\n",
       "  <th>class_2</th>                <td>    1.1141</td> <td>    0.232</td> <td>    4.809</td> <td> 0.000</td> <td>    0.660</td> <td>    1.568</td>\n",
       "</tr>\n",
       "<tr>\n",
       "  <th>Female</th>                 <td>    2.9454</td> <td>    0.208</td> <td>   14.175</td> <td> 0.000</td> <td>    2.538</td> <td>    3.353</td>\n",
       "</tr>\n",
       "<tr>\n",
       "  <th>FamilySize</th>             <td>   -0.3249</td> <td>    0.077</td> <td>   -4.195</td> <td> 0.000</td> <td>   -0.477</td> <td>   -0.173</td>\n",
       "</tr>\n",
       "<tr>\n",
       "  <th>inAge_rand_Infant</th>      <td>    3.0717</td> <td>    0.479</td> <td>    6.414</td> <td> 0.000</td> <td>    2.133</td> <td>    4.010</td>\n",
       "</tr>\n",
       "<tr>\n",
       "  <th>inAge_rand_Child</th>       <td>    1.2898</td> <td>    0.536</td> <td>    2.405</td> <td> 0.016</td> <td>    0.238</td> <td>    2.341</td>\n",
       "</tr>\n",
       "<tr>\n",
       "  <th>inAge_rand_Young Adult</th> <td>    0.4354</td> <td>    0.199</td> <td>    2.189</td> <td> 0.029</td> <td>    0.046</td> <td>    0.825</td>\n",
       "</tr>\n",
       "<tr>\n",
       "  <th>from_C</th>                 <td>    0.4934</td> <td>    0.234</td> <td>    2.112</td> <td> 0.035</td> <td>    0.036</td> <td>    0.951</td>\n",
       "</tr>\n",
       "<tr>\n",
       "  <th>Eins</th>                   <td>   -2.3568</td> <td>    0.249</td> <td>   -9.466</td> <td> 0.000</td> <td>   -2.845</td> <td>   -1.869</td>\n",
       "</tr>\n",
       "</table>"
      ],
      "text/plain": [
       "<class 'statsmodels.iolib.summary.Summary'>\n",
       "\"\"\"\n",
       "                           Logit Regression Results                           \n",
       "==============================================================================\n",
       "Dep. Variable:               Survived   No. Observations:                  891\n",
       "Model:                          Logit   Df Residuals:                      882\n",
       "Method:                           MLE   Df Model:                            8\n",
       "Date:                Sun, 18 Mar 2018   Pseudo R-squ.:                  0.3568\n",
       "Time:                        16:30:15   Log-Likelihood:                -381.61\n",
       "converged:                       True   LL-Null:                       -593.33\n",
       "                                        LLR p-value:                 1.817e-86\n",
       "==========================================================================================\n",
       "                             coef    std err          z      P>|z|      [0.025      0.975]\n",
       "------------------------------------------------------------------------------------------\n",
       "class_1                    2.1109      0.238      8.862      0.000       1.644       2.578\n",
       "class_2                    1.1141      0.232      4.809      0.000       0.660       1.568\n",
       "Female                     2.9454      0.208     14.175      0.000       2.538       3.353\n",
       "FamilySize                -0.3249      0.077     -4.195      0.000      -0.477      -0.173\n",
       "inAge_rand_Infant          3.0717      0.479      6.414      0.000       2.133       4.010\n",
       "inAge_rand_Child           1.2898      0.536      2.405      0.016       0.238       2.341\n",
       "inAge_rand_Young Adult     0.4354      0.199      2.189      0.029       0.046       0.825\n",
       "from_C                     0.4934      0.234      2.112      0.035       0.036       0.951\n",
       "Eins                      -2.3568      0.249     -9.466      0.000      -2.845      -1.869\n",
       "==========================================================================================\n",
       "\"\"\""
      ]
     },
     "execution_count": 21,
     "metadata": {},
     "output_type": "execute_result"
    }
   ],
   "source": [
    "logit = sm.Logit(Y_train, X_train)\n",
    "result_rand = logit.fit()\n",
    "result_rand.summary()"
   ]
  },
  {
   "cell_type": "code",
   "execution_count": 22,
   "metadata": {},
   "outputs": [
    {
     "data": {
      "text/plain": [
       "82.040000000000006"
      ]
     },
     "execution_count": 22,
     "metadata": {},
     "output_type": "execute_result"
    }
   ],
   "source": [
    "logreg = LogisticRegression(C=1e9)\n",
    "logreg.fit(X_train,Y_train)\n",
    "Y_pred = logreg.predict(X_test)\n",
    "acc_log = round(logreg.score(X_train, Y_train) * 100, 2)\n",
    "acc_log"
   ]
  },
  {
   "cell_type": "code",
   "execution_count": 23,
   "metadata": {},
   "outputs": [
    {
     "data": {
      "text/plain": [
       "0    2.110613\n",
       "1    1.114238\n",
       "2    2.945362\n",
       "3   -0.324799\n",
       "4    3.071351\n",
       "5    1.287919\n",
       "6    0.435142\n",
       "7    0.493600\n",
       "8   -1.178348\n",
       "dtype: float64"
      ]
     },
     "execution_count": 23,
     "metadata": {},
     "output_type": "execute_result"
    }
   ],
   "source": [
    "pd.Series(logreg.coef_[0])"
   ]
  },
  {
   "cell_type": "code",
   "execution_count": 24,
   "metadata": {},
   "outputs": [
    {
     "data": {
      "text/html": [
       "<div>\n",
       "<style>\n",
       "    .dataframe thead tr:only-child th {\n",
       "        text-align: right;\n",
       "    }\n",
       "\n",
       "    .dataframe thead th {\n",
       "        text-align: left;\n",
       "    }\n",
       "\n",
       "    .dataframe tbody tr th {\n",
       "        vertical-align: top;\n",
       "    }\n",
       "</style>\n",
       "<table border=\"1\" class=\"dataframe\">\n",
       "  <thead>\n",
       "    <tr style=\"text-align: right;\">\n",
       "      <th></th>\n",
       "      <th>Feature</th>\n",
       "      <th>Correlation</th>\n",
       "    </tr>\n",
       "  </thead>\n",
       "  <tbody>\n",
       "    <tr>\n",
       "      <th>4</th>\n",
       "      <td>inAge_rand_Infant</td>\n",
       "      <td>3.071351</td>\n",
       "    </tr>\n",
       "    <tr>\n",
       "      <th>2</th>\n",
       "      <td>Female</td>\n",
       "      <td>2.945362</td>\n",
       "    </tr>\n",
       "    <tr>\n",
       "      <th>0</th>\n",
       "      <td>class_1</td>\n",
       "      <td>2.110613</td>\n",
       "    </tr>\n",
       "    <tr>\n",
       "      <th>5</th>\n",
       "      <td>inAge_rand_Child</td>\n",
       "      <td>1.287919</td>\n",
       "    </tr>\n",
       "    <tr>\n",
       "      <th>1</th>\n",
       "      <td>class_2</td>\n",
       "      <td>1.114238</td>\n",
       "    </tr>\n",
       "    <tr>\n",
       "      <th>7</th>\n",
       "      <td>from_C</td>\n",
       "      <td>0.493600</td>\n",
       "    </tr>\n",
       "    <tr>\n",
       "      <th>6</th>\n",
       "      <td>inAge_rand_Young Adult</td>\n",
       "      <td>0.435142</td>\n",
       "    </tr>\n",
       "    <tr>\n",
       "      <th>3</th>\n",
       "      <td>FamilySize</td>\n",
       "      <td>-0.324799</td>\n",
       "    </tr>\n",
       "  </tbody>\n",
       "</table>\n",
       "</div>"
      ],
      "text/plain": [
       "                  Feature  Correlation\n",
       "4       inAge_rand_Infant     3.071351\n",
       "2                  Female     2.945362\n",
       "0                 class_1     2.110613\n",
       "5        inAge_rand_Child     1.287919\n",
       "1                 class_2     1.114238\n",
       "7                  from_C     0.493600\n",
       "6  inAge_rand_Young Adult     0.435142\n",
       "3              FamilySize    -0.324799"
      ]
     },
     "execution_count": 24,
     "metadata": {},
     "output_type": "execute_result"
    }
   ],
   "source": [
    "coef = pd.DataFrame(['class_1','class_2','Female',\"FamilySize\",\n",
    "                          'inAge_rand_Infant','inAge_rand_Child', 'inAge_rand_Young Adult',\n",
    "                            'from_C'])\n",
    "coef.columns = ['Feature']\n",
    "coef[\"Correlation\"] = pd.Series(logreg.coef_[0])\n",
    "\n",
    "coef.sort_values(by='Correlation', ascending=False)"
   ]
  },
  {
   "cell_type": "code",
   "execution_count": 25,
   "metadata": {},
   "outputs": [
    {
     "data": {
      "text/plain": [
       "82.489999999999995"
      ]
     },
     "execution_count": 25,
     "metadata": {},
     "output_type": "execute_result"
    }
   ],
   "source": [
    "# Support Vector Machines\n",
    "\n",
    "svc = SVC()\n",
    "svc.fit(X_train, Y_train)\n",
    "Y_pred = svc.predict(X_test)\n",
    "acc_svc = round(svc.score(X_train, Y_train) * 100, 2)\n",
    "acc_svc"
   ]
  },
  {
   "cell_type": "code",
   "execution_count": 26,
   "metadata": {},
   "outputs": [
    {
     "data": {
      "text/plain": [
       "83.609999999999999"
      ]
     },
     "execution_count": 26,
     "metadata": {},
     "output_type": "execute_result"
    }
   ],
   "source": [
    "knn = KNeighborsClassifier(n_neighbors = 3)\n",
    "knn.fit(X_train, Y_train)\n",
    "Y_pred = knn.predict(X_test)\n",
    "acc_knn = round(knn.score(X_train, Y_train) * 100, 2)\n",
    "acc_knn"
   ]
  },
  {
   "cell_type": "code",
   "execution_count": 27,
   "metadata": {},
   "outputs": [
    {
     "data": {
      "text/plain": [
       "84.849999999999994"
      ]
     },
     "execution_count": 27,
     "metadata": {},
     "output_type": "execute_result"
    }
   ],
   "source": [
    "# Decision Tree\n",
    "\n",
    "decision_tree = DecisionTreeClassifier()\n",
    "decision_tree.fit(X_train, Y_train)\n",
    "Y_pred = decision_tree.predict(X_test)\n",
    "acc_decision_tree = round(decision_tree.score(X_train, Y_train) * 100, 2)\n",
    "acc_decision_tree"
   ]
  },
  {
   "cell_type": "code",
   "execution_count": 28,
   "metadata": {},
   "outputs": [
    {
     "data": {
      "text/plain": [
       "84.849999999999994"
      ]
     },
     "execution_count": 28,
     "metadata": {},
     "output_type": "execute_result"
    }
   ],
   "source": [
    "# Random Forest\n",
    "\n",
    "random_forest = RandomForestClassifier(n_estimators=100)\n",
    "random_forest.fit(X_train, Y_train)\n",
    "Y_pred = random_forest.predict(X_test)\n",
    "random_forest.score(X_train, Y_train)\n",
    "acc_random_forest = round(random_forest.score(X_train, Y_train) * 100, 2)\n",
    "acc_random_forest"
   ]
  },
  {
   "cell_type": "code",
   "execution_count": 29,
   "metadata": {},
   "outputs": [
    {
     "data": {
      "text/html": [
       "<div>\n",
       "<style>\n",
       "    .dataframe thead tr:only-child th {\n",
       "        text-align: right;\n",
       "    }\n",
       "\n",
       "    .dataframe thead th {\n",
       "        text-align: left;\n",
       "    }\n",
       "\n",
       "    .dataframe tbody tr th {\n",
       "        vertical-align: top;\n",
       "    }\n",
       "</style>\n",
       "<table border=\"1\" class=\"dataframe\">\n",
       "  <thead>\n",
       "    <tr style=\"text-align: right;\">\n",
       "      <th></th>\n",
       "      <th>Model</th>\n",
       "      <th>Score</th>\n",
       "    </tr>\n",
       "  </thead>\n",
       "  <tbody>\n",
       "    <tr>\n",
       "      <th>3</th>\n",
       "      <td>Random Forest</td>\n",
       "      <td>84.85</td>\n",
       "    </tr>\n",
       "    <tr>\n",
       "      <th>4</th>\n",
       "      <td>Decision Tree</td>\n",
       "      <td>84.85</td>\n",
       "    </tr>\n",
       "    <tr>\n",
       "      <th>1</th>\n",
       "      <td>KNN</td>\n",
       "      <td>83.61</td>\n",
       "    </tr>\n",
       "    <tr>\n",
       "      <th>0</th>\n",
       "      <td>Support Vector Machines</td>\n",
       "      <td>82.49</td>\n",
       "    </tr>\n",
       "    <tr>\n",
       "      <th>2</th>\n",
       "      <td>Logistic Regression</td>\n",
       "      <td>82.04</td>\n",
       "    </tr>\n",
       "  </tbody>\n",
       "</table>\n",
       "</div>"
      ],
      "text/plain": [
       "                     Model  Score\n",
       "3            Random Forest  84.85\n",
       "4            Decision Tree  84.85\n",
       "1                      KNN  83.61\n",
       "0  Support Vector Machines  82.49\n",
       "2      Logistic Regression  82.04"
      ]
     },
     "execution_count": 29,
     "metadata": {},
     "output_type": "execute_result"
    }
   ],
   "source": [
    "models = pd.DataFrame({\n",
    "    'Model': ['Support Vector Machines', 'KNN', 'Logistic Regression', \n",
    "              'Random Forest', \n",
    "              'Decision Tree'],\n",
    "    'Score': [acc_svc, acc_knn, acc_log, \n",
    "              acc_random_forest, acc_decision_tree]})\n",
    "models.sort_values(by='Score', ascending=False)"
   ]
  },
  {
   "cell_type": "code",
   "execution_count": null,
   "metadata": {
    "collapsed": true
   },
   "outputs": [],
   "source": [
    "submission = pd.DataFrame({\n",
    "        \"PassengerId\": df_test[\"PassengerId\"],\n",
    "        \"Survived\": Y_pred\n",
    "    })\n",
    "submission.to_csv('../data/processed/submission.csv', index=False)"
   ]
  },
  {
   "cell_type": "code",
   "execution_count": null,
   "metadata": {
    "collapsed": true
   },
   "outputs": [],
   "source": []
  }
 ],
 "metadata": {
  "kernelspec": {
   "display_name": "Python 3",
   "language": "python",
   "name": "python3"
  },
  "language_info": {
   "codemirror_mode": {
    "name": "ipython",
    "version": 3
   },
   "file_extension": ".py",
   "mimetype": "text/x-python",
   "name": "python",
   "nbconvert_exporter": "python",
   "pygments_lexer": "ipython3",
   "version": "3.6.3"
  }
 },
 "nbformat": 4,
 "nbformat_minor": 2
}
